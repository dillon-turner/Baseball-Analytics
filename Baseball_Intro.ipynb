{
 "cells": [
  {
   "cell_type": "code",
   "execution_count": 5,
   "id": "ac97a4d1-27b3-414b-b124-8d33cfe70329",
   "metadata": {},
   "outputs": [
    {
     "name": "stdout",
     "output_type": "stream",
     "text": [
      "Collecting duckdb\n",
      "  Downloading duckdb-1.1.3-cp312-cp312-win_amd64.whl.metadata (781 bytes)\n",
      "Requirement already satisfied: pandas in c:\\users\\dillo\\anaconda3\\lib\\site-packages (2.2.2)\n",
      "Requirement already satisfied: numpy>=1.26.0 in c:\\users\\dillo\\anaconda3\\lib\\site-packages (from pandas) (1.26.4)\n",
      "Requirement already satisfied: python-dateutil>=2.8.2 in c:\\users\\dillo\\anaconda3\\lib\\site-packages (from pandas) (2.9.0.post0)\n",
      "Requirement already satisfied: pytz>=2020.1 in c:\\users\\dillo\\anaconda3\\lib\\site-packages (from pandas) (2024.1)\n",
      "Requirement already satisfied: tzdata>=2022.7 in c:\\users\\dillo\\anaconda3\\lib\\site-packages (from pandas) (2023.3)\n",
      "Requirement already satisfied: six>=1.5 in c:\\users\\dillo\\anaconda3\\lib\\site-packages (from python-dateutil>=2.8.2->pandas) (1.16.0)\n",
      "Downloading duckdb-1.1.3-cp312-cp312-win_amd64.whl (11.0 MB)\n",
      "   ---------------------------------------- 0.0/11.0 MB ? eta -:--:--\n",
      "   ---------------------------- ----------- 7.9/11.0 MB 40.4 MB/s eta 0:00:01\n",
      "   ---------------------------------------- 11.0/11.0 MB 37.9 MB/s eta 0:00:00\n",
      "Installing collected packages: duckdb\n",
      "Successfully installed duckdb-1.1.3\n"
     ]
    }
   ],
   "source": [
    "!pip install duckdb pandas"
   ]
  },
  {
   "cell_type": "code",
   "execution_count": 7,
   "id": "102b0dde-6cb1-4b3f-b53b-38881062dd1a",
   "metadata": {},
   "outputs": [],
   "source": [
    "# Duckdb is a SQL engine that allows us to execute powerful, analytics-friendly\n",
    "# queries against local or remote databases and flat files.\n",
    "import duckdb\n",
    "import pandas as pd"
   ]
  },
  {
   "cell_type": "code",
   "execution_count": 9,
   "id": "541d8f3f-513d-4a0a-9f61-0edb707157df",
   "metadata": {},
   "outputs": [
    {
     "data": {
      "application/vnd.jupyter.widget-view+json": {
       "model_id": "2ae685fcb1804adea5f8fc871dcc0d2d",
       "version_major": 2,
       "version_minor": 0
      },
      "text/plain": [
       "FloatProgress(value=0.0, layout=Layout(width='auto'), style=ProgressStyle(bar_color='black'))"
      ]
     },
     "metadata": {},
     "output_type": "display_data"
    }
   ],
   "source": [
    "# Create a database file on disk\n",
    "conn = duckdb.connect('example.db')\n",
    "# Enable remote access\n",
    "conn.sql(\"INSTALL httpfs\")\n",
    "conn.sql(\"LOAD httpfs\")\n",
    "# This database file points to files totaling multiple GBs,\n",
    "# but it's only about 300KB itself. The `ATTACH` command\n",
    "# gives us access to views that sit on top of remote Parquet files.\n",
    "try:\n",
    "  conn.sql(\"ATTACH 'https://data.baseball.computer/dbt/bc_remote.db' (READ_ONLY)\")\n",
    "except duckdb.BinderException:\n",
    "  # This command will fail if you run it more than once because it already exists,\n",
    "  # in which case we don't need to do anything\n",
    "  pass\n",
    "\n",
    "conn.sql(\"USE bc_remote\")\n",
    "conn.sql(\"USE main_models\")"
   ]
  },
  {
   "cell_type": "code",
   "execution_count": null,
   "id": "ee96224a",
   "metadata": {},
   "outputs": [],
   "source": [
    "Potential A/B Testing ideas: Offensive and pitching stats several years prior and post expansion\n",
    "    Offensive and Defensive stats post DH expansion\n",
    "    Offensive stats post pitch clock"
   ]
  },
  {
   "cell_type": "code",
   "execution_count": 13,
   "id": "caa684e6-d005-463b-8cb1-12bc44ac8974",
   "metadata": {},
   "outputs": [],
   "source": [
    "df: pd.DataFrame = conn.sql(\"SELECT p.player_id, p.last_name, p.first_name FROM player_game_offense_stats pgoStats left join stg_bio p on pgoStats.player_id = p.player_id\" ).df()"
   ]
  },
  {
   "cell_type": "code",
   "execution_count": 15,
   "id": "690129af-deb9-4fa1-9185-fecd8ddef4fa",
   "metadata": {},
   "outputs": [
    {
     "data": {
      "text/html": [
       "<div>\n",
       "<style scoped>\n",
       "    .dataframe tbody tr th:only-of-type {\n",
       "        vertical-align: middle;\n",
       "    }\n",
       "\n",
       "    .dataframe tbody tr th {\n",
       "        vertical-align: top;\n",
       "    }\n",
       "\n",
       "    .dataframe thead th {\n",
       "        text-align: right;\n",
       "    }\n",
       "</style>\n",
       "<table border=\"1\" class=\"dataframe\">\n",
       "  <thead>\n",
       "    <tr style=\"text-align: right;\">\n",
       "      <th></th>\n",
       "      <th>player_id</th>\n",
       "      <th>last_name</th>\n",
       "      <th>first_name</th>\n",
       "    </tr>\n",
       "  </thead>\n",
       "  <tbody>\n",
       "    <tr>\n",
       "      <th>0</th>\n",
       "      <td>mclon001</td>\n",
       "      <td>McLouth</td>\n",
       "      <td>Nate</td>\n",
       "    </tr>\n",
       "    <tr>\n",
       "      <th>1</th>\n",
       "      <td>waltz001</td>\n",
       "      <td>Walters</td>\n",
       "      <td>Zach</td>\n",
       "    </tr>\n",
       "    <tr>\n",
       "      <th>2</th>\n",
       "      <td>tolls001</td>\n",
       "      <td>Tolleson</td>\n",
       "      <td>Steven</td>\n",
       "    </tr>\n",
       "    <tr>\n",
       "      <th>3</th>\n",
       "      <td>sancg001</td>\n",
       "      <td>Sanchez</td>\n",
       "      <td>Gaby</td>\n",
       "    </tr>\n",
       "    <tr>\n",
       "      <th>4</th>\n",
       "      <td>espid001</td>\n",
       "      <td>Espinosa</td>\n",
       "      <td>Danny</td>\n",
       "    </tr>\n",
       "    <tr>\n",
       "      <th>...</th>\n",
       "      <td>...</td>\n",
       "      <td>...</td>\n",
       "      <td>...</td>\n",
       "    </tr>\n",
       "    <tr>\n",
       "      <th>4576443</th>\n",
       "      <td>pillk001</td>\n",
       "      <td>Pillar</td>\n",
       "      <td>Kevin</td>\n",
       "    </tr>\n",
       "    <tr>\n",
       "      <th>4576444</th>\n",
       "      <td>lobaj001</td>\n",
       "      <td>Lobaton</td>\n",
       "      <td>Jose</td>\n",
       "    </tr>\n",
       "    <tr>\n",
       "      <th>4576445</th>\n",
       "      <td>None</td>\n",
       "      <td>None</td>\n",
       "      <td>None</td>\n",
       "    </tr>\n",
       "    <tr>\n",
       "      <th>4576446</th>\n",
       "      <td>None</td>\n",
       "      <td>None</td>\n",
       "      <td>None</td>\n",
       "    </tr>\n",
       "    <tr>\n",
       "      <th>4576447</th>\n",
       "      <td>None</td>\n",
       "      <td>None</td>\n",
       "      <td>None</td>\n",
       "    </tr>\n",
       "  </tbody>\n",
       "</table>\n",
       "<p>4576448 rows × 3 columns</p>\n",
       "</div>"
      ],
      "text/plain": [
       "        player_id last_name first_name\n",
       "0        mclon001   McLouth       Nate\n",
       "1        waltz001   Walters       Zach\n",
       "2        tolls001  Tolleson     Steven\n",
       "3        sancg001   Sanchez       Gaby\n",
       "4        espid001  Espinosa      Danny\n",
       "...           ...       ...        ...\n",
       "4576443  pillk001    Pillar      Kevin\n",
       "4576444  lobaj001   Lobaton       Jose\n",
       "4576445      None      None       None\n",
       "4576446      None      None       None\n",
       "4576447      None      None       None\n",
       "\n",
       "[4576448 rows x 3 columns]"
      ]
     },
     "execution_count": 15,
     "metadata": {},
     "output_type": "execute_result"
    }
   ],
   "source": [
    "df"
   ]
  },
  {
   "cell_type": "code",
   "execution_count": null,
   "id": "8a1a50d9-fd2c-46d9-b1be-3dad08d9525d",
   "metadata": {},
   "outputs": [],
   "source": []
  }
 ],
 "metadata": {
  "kernelspec": {
   "display_name": "Python 3 (ipykernel)",
   "language": "python",
   "name": "python3"
  },
  "language_info": {
   "codemirror_mode": {
    "name": "ipython",
    "version": 3
   },
   "file_extension": ".py",
   "mimetype": "text/x-python",
   "name": "python",
   "nbconvert_exporter": "python",
   "pygments_lexer": "ipython3",
   "version": "3.9.13"
  }
 },
 "nbformat": 4,
 "nbformat_minor": 5
}
